{
 "cells": [
  {
   "cell_type": "code",
   "execution_count": 1,
   "id": "c0ee4c6d",
   "metadata": {},
   "outputs": [],
   "source": [
    "import spacy"
   ]
  },
  {
   "cell_type": "code",
   "execution_count": 2,
   "id": "44c85ea3",
   "metadata": {},
   "outputs": [],
   "source": [
    "sp = spacy.load('fr_core_news_sm')"
   ]
  },
  {
   "cell_type": "code",
   "execution_count": 8,
   "id": "8f602d6f",
   "metadata": {},
   "outputs": [],
   "source": [
    "sentence = sp(u\"La mouvance humaniste aimait à se représenter comme une élite sortant de l'âge du monstrueux pour entrer dans l'âge de l'homme. Si l'homme de Léonard de Vinci inscrit dans la perfection du carré et du cercle, as- somption de l'Harmonie et du Nombre - est bien l'anti-monstre qui représente cette «renaissance», c'est, me semble-t-il, à l'aube de l'ère nouvelle, dans le Saint Georges et le Dragon d'Uccello qu'il faut en chercher la figuration la plus exemplaire. Le motif en est banal : le soldat du Christ terrasse le monstre dont la gueule béante, le corps convulsé et les couleurs hideuses s'opposent à l'élan immobile du saint juché sur un étalon blanc. Mais ce n'est pas levéritable sujet du tableau : celui-ci représente le triomphe même du monde dont Uccello est le père : celui de la perspective linéaire. En effet, ce qui caractérise cette œuvre, c'est la profondeur du champ et la perfection «miraculeuse» des lignes de fuite. Or ces lignes de fuite se rejoignent exactement au pointd'impact de la lance de Saint Georges. On l'a compris : le combat est esthétique : c'est le fer triangulaire de la perspective qui abat le monstre. C'est un univers qui prend forme qui triomphe, figé en sa perfection même de l'informe.\")"
   ]
  },
  {
   "cell_type": "code",
   "execution_count": 9,
   "id": "804b2120",
   "metadata": {},
   "outputs": [
    {
     "name": "stdout",
     "output_type": "stream",
     "text": [
      "La\n",
      "mouvance\n",
      "humaniste\n",
      "aimait\n",
      "à\n",
      "se\n",
      "représenter\n",
      "comme\n",
      "une\n",
      "élite\n",
      "sortant\n",
      "de\n",
      "l'\n",
      "âge\n",
      "du\n",
      "monstrueux\n",
      "pour\n",
      "entrer\n",
      "dans\n",
      "l'\n",
      "âge\n",
      "de\n",
      "l'\n",
      "homme\n",
      ".\n",
      "Si\n",
      "l'\n",
      "homme\n",
      "de\n",
      "Léonard\n",
      "de\n",
      "Vinci\n",
      "inscrit\n",
      "dans\n",
      "la\n",
      "perfection\n",
      "du\n",
      "carré\n",
      "et\n",
      "du\n",
      "cercle\n",
      ",\n",
      "as-\n",
      "somption\n",
      "de\n",
      "l'\n",
      "Harmonie\n",
      "et\n",
      "du\n",
      "Nombre\n",
      "-\n",
      "est\n",
      "bien\n",
      "l'\n",
      "anti-monstre\n",
      "qui\n",
      "représente\n",
      "cette\n",
      "«\n",
      "renaissance\n",
      "»\n",
      ",\n",
      "c'\n",
      "est\n",
      ",\n",
      "me\n",
      "semble\n",
      "-t\n",
      "-il\n",
      ",\n",
      "à\n",
      "l'\n",
      "aube\n",
      "de\n",
      "l'\n",
      "ère\n",
      "nouvelle\n",
      ",\n",
      "dans\n",
      "le\n",
      "Saint\n",
      "Georges\n",
      "et\n",
      "le\n",
      "Dragon\n",
      "d'\n",
      "Uccello\n",
      "qu'\n",
      "il\n",
      "faut\n",
      "en\n",
      "chercher\n",
      "la\n",
      "figuration\n",
      "la\n",
      "plus\n",
      "exemplaire\n",
      ".\n",
      "Le\n",
      "motif\n",
      "en\n",
      "est\n",
      "banal\n",
      ":\n",
      "le\n",
      "soldat\n",
      "du\n",
      "Christ\n",
      "terrasse\n",
      "le\n",
      "monstre\n",
      "dont\n",
      "la\n",
      "gueule\n",
      "béante\n",
      ",\n",
      "le\n",
      "corps\n",
      "convulsé\n",
      "et\n",
      "les\n",
      "couleurs\n",
      "hideuses\n",
      "s'\n",
      "opposent\n",
      "à\n",
      "l'\n",
      "élan\n",
      "immobile\n",
      "du\n",
      "saint\n",
      "juché\n",
      "sur\n",
      "un\n",
      "étalon\n",
      "blanc\n",
      ".\n",
      "Mais\n",
      "ce\n",
      "n'\n",
      "est\n",
      "pas\n",
      "levéritable\n",
      "sujet\n",
      "du\n",
      "tableau\n",
      ":\n",
      "celui-ci\n",
      "représente\n",
      "le\n",
      "triomphe\n",
      "même\n",
      "du\n",
      "monde\n",
      "dont\n",
      "Uccello\n",
      "est\n",
      "le\n",
      "père\n",
      ":\n",
      "celui\n",
      "de\n",
      "la\n",
      "perspective\n",
      "linéaire\n",
      ".\n",
      "En\n",
      "effet\n",
      ",\n",
      "ce\n",
      "qui\n",
      "caractérise\n",
      "cette\n",
      "œuvre\n",
      ",\n",
      "c'\n",
      "est\n",
      "la\n",
      "profondeur\n",
      "du\n",
      "champ\n",
      "et\n",
      "la\n",
      "perfection\n",
      "«\n",
      "miraculeuse\n",
      "»\n",
      "des\n",
      "lignes\n",
      "de\n",
      "fuite\n",
      ".\n",
      "Or\n",
      "ces\n",
      "lignes\n",
      "de\n",
      "fuite\n",
      "se\n",
      "rejoignent\n",
      "exactement\n",
      "au\n",
      "pointd'\n",
      "impact\n",
      "de\n",
      "la\n",
      "lance\n",
      "de\n",
      "Saint\n",
      "Georges\n",
      ".\n",
      "On\n",
      "l'\n",
      "a\n",
      "compris\n",
      ":\n",
      "le\n",
      "combat\n",
      "est\n",
      "esthétique\n",
      ":\n",
      "c'\n",
      "est\n",
      "le\n",
      "fer\n",
      "triangulaire\n",
      "de\n",
      "la\n",
      "perspective\n",
      "qui\n",
      "abat\n",
      "le\n",
      "monstre\n",
      ".\n",
      "C'\n",
      "est\n",
      "un\n",
      "univers\n",
      "qui\n",
      "prend\n",
      "forme\n",
      "qui\n",
      "triomphe\n",
      ",\n",
      "figé\n",
      "en\n",
      "sa\n",
      "perfection\n",
      "même\n",
      "de\n",
      "l'\n",
      "informe\n",
      ".\n"
     ]
    }
   ],
   "source": [
    "for word in sentence:\n",
    "    print(word.text)"
   ]
  },
  {
   "cell_type": "code",
   "execution_count": 10,
   "id": "d409982c",
   "metadata": {},
   "outputs": [
    {
     "name": "stdout",
     "output_type": "stream",
     "text": [
      "La DET\n",
      "mouvance NOUN\n",
      "humaniste ADJ\n",
      "aimait VERB\n",
      "à ADP\n",
      "se PRON\n",
      "représenter VERB\n",
      "comme ADP\n",
      "une DET\n",
      "élite NOUN\n",
      "sortant VERB\n",
      "de ADP\n",
      "l' DET\n",
      "âge NOUN\n",
      "du ADP\n",
      "monstrueux NOUN\n",
      "pour ADP\n",
      "entrer VERB\n",
      "dans ADP\n",
      "l' DET\n",
      "âge NOUN\n",
      "de ADP\n",
      "l' DET\n",
      "homme NOUN\n",
      ". PUNCT\n",
      "Si SCONJ\n",
      "l' DET\n",
      "homme NOUN\n",
      "de ADP\n",
      "Léonard PROPN\n",
      "de ADP\n",
      "Vinci PROPN\n",
      "inscrit VERB\n",
      "dans ADP\n",
      "la DET\n",
      "perfection NOUN\n",
      "du ADP\n",
      "carré NOUN\n",
      "et CCONJ\n",
      "du ADP\n",
      "cercle NOUN\n",
      ", PUNCT\n",
      "as- ADV\n",
      "somption NOUN\n",
      "de ADP\n",
      "l' DET\n",
      "Harmonie NOUN\n",
      "et CCONJ\n",
      "du ADP\n",
      "Nombre NOUN\n",
      "- PUNCT\n",
      "est AUX\n",
      "bien ADV\n",
      "l' DET\n",
      "anti-monstre NOUN\n",
      "qui PRON\n",
      "représente VERB\n",
      "cette DET\n",
      "« ADJ\n",
      "renaissance NOUN\n",
      "» PUNCT\n",
      ", PUNCT\n",
      "c' PRON\n",
      "est AUX\n",
      ", PUNCT\n",
      "me PRON\n",
      "semble VERB\n",
      "-t PRON\n",
      "-il PRON\n",
      ", PUNCT\n",
      "à ADP\n",
      "l' DET\n",
      "aube NOUN\n",
      "de ADP\n",
      "l' DET\n",
      "ère NOUN\n",
      "nouvelle ADJ\n",
      ", PUNCT\n",
      "dans ADP\n",
      "le DET\n",
      "Saint NOUN\n",
      "Georges PROPN\n",
      "et CCONJ\n",
      "le DET\n",
      "Dragon NOUN\n",
      "d' ADP\n",
      "Uccello PROPN\n",
      "qu' PRON\n",
      "il PRON\n",
      "faut VERB\n",
      "en PRON\n",
      "chercher VERB\n",
      "la DET\n",
      "figuration NOUN\n",
      "la DET\n",
      "plus ADV\n",
      "exemplaire ADJ\n",
      ". PUNCT\n",
      "Le DET\n",
      "motif NOUN\n",
      "en PRON\n",
      "est AUX\n",
      "banal ADJ\n",
      ": PUNCT\n",
      "le DET\n",
      "soldat NOUN\n",
      "du ADP\n",
      "Christ PROPN\n",
      "terrasse ADJ\n",
      "le DET\n",
      "monstre NOUN\n",
      "dont PRON\n",
      "la DET\n",
      "gueule NOUN\n",
      "béante VERB\n",
      ", PUNCT\n",
      "le DET\n",
      "corps NOUN\n",
      "convulsé VERB\n",
      "et CCONJ\n",
      "les DET\n",
      "couleurs NOUN\n",
      "hideuses ADJ\n",
      "s' PRON\n",
      "opposent VERB\n",
      "à ADP\n",
      "l' DET\n",
      "élan NOUN\n",
      "immobile ADJ\n",
      "du ADP\n",
      "saint NOUN\n",
      "juché VERB\n",
      "sur ADP\n",
      "un DET\n",
      "étalon NOUN\n",
      "blanc ADJ\n",
      ". PUNCT\n",
      "Mais CCONJ\n",
      "ce PRON\n",
      "n' ADV\n",
      "est AUX\n",
      "pas ADV\n",
      "levéritable ADJ\n",
      "sujet NOUN\n",
      "du ADP\n",
      "tableau NOUN\n",
      ": PUNCT\n",
      "celui-ci PRON\n",
      "représente VERB\n",
      "le DET\n",
      "triomphe NOUN\n",
      "même ADV\n",
      "du ADP\n",
      "monde NOUN\n",
      "dont PRON\n",
      "Uccello PROPN\n",
      "est AUX\n",
      "le DET\n",
      "père NOUN\n",
      ": PUNCT\n",
      "celui PRON\n",
      "de ADP\n",
      "la DET\n",
      "perspective NOUN\n",
      "linéaire ADJ\n",
      ". PUNCT\n",
      "En ADP\n",
      "effet NOUN\n",
      ", PUNCT\n",
      "ce PRON\n",
      "qui PRON\n",
      "caractérise ADJ\n",
      "cette DET\n",
      "œuvre NOUN\n",
      ", PUNCT\n",
      "c' PRON\n",
      "est AUX\n",
      "la DET\n",
      "profondeur NOUN\n",
      "du ADP\n",
      "champ NOUN\n",
      "et CCONJ\n",
      "la DET\n",
      "perfection NOUN\n",
      "« ADJ\n",
      "miraculeuse ADJ\n",
      "» PUNCT\n",
      "des ADP\n",
      "lignes NOUN\n",
      "de ADP\n",
      "fuite NOUN\n",
      ". PUNCT\n",
      "Or CCONJ\n",
      "ces DET\n",
      "lignes NOUN\n",
      "de ADP\n",
      "fuite NOUN\n",
      "se PRON\n",
      "rejoignent VERB\n",
      "exactement ADV\n",
      "au ADP\n",
      "pointd' NOUN\n",
      "impact NOUN\n",
      "de ADP\n",
      "la DET\n",
      "lance NOUN\n",
      "de ADP\n",
      "Saint PROPN\n",
      "Georges PROPN\n",
      ". PUNCT\n",
      "On PRON\n",
      "l' PRON\n",
      "a AUX\n",
      "compris VERB\n",
      ": PUNCT\n",
      "le DET\n",
      "combat NOUN\n",
      "est AUX\n",
      "esthétique ADJ\n",
      ": PUNCT\n",
      "c' PRON\n",
      "est AUX\n",
      "le DET\n",
      "fer NOUN\n",
      "triangulaire ADJ\n",
      "de ADP\n",
      "la DET\n",
      "perspective NOUN\n",
      "qui PRON\n",
      "abat VERB\n",
      "le DET\n",
      "monstre NOUN\n",
      ". PUNCT\n",
      "C' PRON\n",
      "est AUX\n",
      "un DET\n",
      "univers NOUN\n",
      "qui PRON\n",
      "prend VERB\n",
      "forme NOUN\n",
      "qui PRON\n",
      "triomphe VERB\n",
      ", PUNCT\n",
      "figé VERB\n",
      "en ADP\n",
      "sa DET\n",
      "perfection NOUN\n",
      "même ADV\n",
      "de ADP\n",
      "l' DET\n",
      "informe NOUN\n",
      ". PUNCT\n"
     ]
    }
   ],
   "source": [
    "for word in sentence:\n",
    "    print(word.text,  word.pos_)"
   ]
  },
  {
   "cell_type": "code",
   "execution_count": 12,
   "id": "f208cacc",
   "metadata": {},
   "outputs": [
    {
     "name": "stdout",
     "output_type": "stream",
     "text": [
      "La mouvance humaniste aimait à se représenter comme une élite sortant de l'âge du monstrueux pour entrer dans l'âge de l'homme.\n",
      "Si l'homme de Léonard de Vinci inscrit dans la perfection du carré et du cercle, as- somption de l'Harmonie et du Nombre - est bien l'anti-monstre qui représente cette «renaissance»\n",
      ", c'est, me semble-t-il, à l'aube de l'ère nouvelle, dans le Saint Georges et le Dragon d'Uccello qu'il faut en chercher la figuration la plus exemplaire.\n",
      "Le motif en est banal : le soldat du Christ terrasse le monstre dont la gueule béante, le corps convulsé et les couleurs hideuses s'opposent à l'élan immobile du saint juché sur un étalon blanc.\n",
      "Mais ce n'est pas levéritable sujet du tableau : celui-ci représente le triomphe même du monde dont Uccello est le père : celui de la perspective linéaire.\n",
      "En effet, ce qui caractérise cette œuvre, c'est la profondeur du champ et la perfection «miraculeuse» des lignes de fuite.\n",
      "Or ces lignes de fuite se rejoignent exactement au pointd'impact de la lance de Saint Georges.\n",
      "On l'a compris : le combat est esthétique : c'est le fer triangulaire de la perspective qui abat le monstre.\n",
      "C'est un univers qui prend forme qui triomphe, figé en sa perfection même de l'informe.\n"
     ]
    }
   ],
   "source": [
    "for i in sentence.sents:\n",
    "    print(i)"
   ]
  },
  {
   "cell_type": "code",
   "execution_count": 13,
   "id": "949179ca",
   "metadata": {},
   "outputs": [
    {
     "data": {
      "text/plain": [
       "de"
      ]
     },
     "execution_count": 13,
     "metadata": {},
     "output_type": "execute_result"
    }
   ],
   "source": [
    "sentence[28]"
   ]
  },
  {
   "cell_type": "code",
   "execution_count": 14,
   "id": "8cbbe804",
   "metadata": {},
   "outputs": [
    {
     "data": {
      "text/plain": [
       "False"
      ]
     },
     "execution_count": 14,
     "metadata": {},
     "output_type": "execute_result"
    }
   ],
   "source": [
    "sentence[28].is_sent_start"
   ]
  },
  {
   "cell_type": "code",
   "execution_count": null,
   "id": "e3b08b13",
   "metadata": {},
   "outputs": [],
   "source": []
  },
  {
   "cell_type": "markdown",
   "id": "0400d03a",
   "metadata": {},
   "source": [
    "new file"
   ]
  },
  {
   "cell_type": "code",
   "execution_count": 15,
   "id": "d6ba86a7",
   "metadata": {},
   "outputs": [
    {
     "name": "stdout",
     "output_type": "stream",
     "text": [
      "\"They're leaving U.K. for U.S.A.\"\n"
     ]
    }
   ],
   "source": [
    "sentence3 = sp(u'\"They\\'re leaving U.K. for U.S.A.\"')\n",
    "print(sentence3)\n"
   ]
  },
  {
   "cell_type": "code",
   "execution_count": 16,
   "id": "540f0b95",
   "metadata": {},
   "outputs": [
    {
     "name": "stdout",
     "output_type": "stream",
     "text": [
      "\"\n",
      "They'\n",
      "re\n",
      "leaving\n",
      "U.K.\n",
      "for\n",
      "U.S.A.\n",
      "\"\n"
     ]
    }
   ],
   "source": [
    "for word in sentence3:\n",
    "    print(word.text)"
   ]
  },
  {
   "cell_type": "code",
   "execution_count": 17,
   "id": "1eb1c8a0",
   "metadata": {},
   "outputs": [
    {
     "name": "stdout",
     "output_type": "stream",
     "text": [
      "Hello, I am non-vegetarian, email me the menu at abc-xyz@gmai.com\n"
     ]
    }
   ],
   "source": [
    "sentence4 = sp(u\"Hello, I am non-vegetarian, email me the menu at abc-xyz@gmai.com\")\n",
    "print(sentence4)"
   ]
  },
  {
   "cell_type": "code",
   "execution_count": 18,
   "id": "d7dbe5de",
   "metadata": {},
   "outputs": [
    {
     "name": "stdout",
     "output_type": "stream",
     "text": [
      "Hello\n",
      ",\n",
      "I\n",
      "am\n",
      "non-vegetarian\n",
      ",\n",
      "email\n",
      "me\n",
      "the\n",
      "menu\n",
      "at\n",
      "abc-xyz@gmai.com\n"
     ]
    }
   ],
   "source": [
    "for word in sentence4:\n",
    "    print(word.text)"
   ]
  },
  {
   "cell_type": "code",
   "execution_count": 19,
   "id": "aac1933e",
   "metadata": {},
   "outputs": [
    {
     "data": {
      "text/plain": [
       "12"
      ]
     },
     "execution_count": 19,
     "metadata": {},
     "output_type": "execute_result"
    }
   ],
   "source": [
    "len(sentence4)\n"
   ]
  },
  {
   "cell_type": "code",
   "execution_count": 20,
   "id": "a8e4a483",
   "metadata": {},
   "outputs": [],
   "source": [
    "sentence5 = sp(u'Manchester United is looking to sign Harry Kane for $90 million')  \n"
   ]
  },
  {
   "cell_type": "code",
   "execution_count": 21,
   "id": "b5c0b1e2",
   "metadata": {},
   "outputs": [
    {
     "name": "stdout",
     "output_type": "stream",
     "text": [
      "Manchester\n",
      "United\n",
      "is\n",
      "looking\n",
      "to\n",
      "sign\n",
      "Harry\n",
      "Kane\n",
      "for\n",
      "$\n",
      "90\n",
      "million\n"
     ]
    }
   ],
   "source": [
    "for word in sentence5:\n",
    "    print(word.text)"
   ]
  },
  {
   "cell_type": "code",
   "execution_count": 23,
   "id": "3deb0ede",
   "metadata": {},
   "outputs": [
    {
     "name": "stdout",
     "output_type": "stream",
     "text": [
      "Léonard de Vinci - PER - Named person or family.\n",
      "Harmonie - LOC - Non-GPE locations, mountain ranges, bodies of water\n",
      "Nombre - LOC - Non-GPE locations, mountain ranges, bodies of water\n",
      "Saint Georges - PER - Named person or family.\n",
      "Dragon d'Uccello - MISC - Miscellaneous entities, e.g. events, nationalities, products or works of art\n",
      "Christ - PER - Named person or family.\n",
      "saint juché - PER - Named person or family.\n",
      "Uccello - MISC - Miscellaneous entities, e.g. events, nationalities, products or works of art\n",
      "pointd'impact - ORG - Companies, agencies, institutions, etc.\n",
      "Saint Georges - PER - Named person or family.\n"
     ]
    }
   ],
   "source": [
    "for entity in sentence.ents:\n",
    "    print(entity.text + ' - ' + entity.label_ + ' - ' + str(spacy.explain(entity.label_)))"
   ]
  },
  {
   "cell_type": "code",
   "execution_count": 24,
   "id": "832b0a08",
   "metadata": {},
   "outputs": [],
   "source": [
    "sentence5 = sp(u'Latest Rumours: Manchester United is looking to sign Harry Kane for $90 million')  \n"
   ]
  },
  {
   "cell_type": "code",
   "execution_count": 25,
   "id": "9456bb9c",
   "metadata": {},
   "outputs": [
    {
     "name": "stdout",
     "output_type": "stream",
     "text": [
      "Latest Rumours:\n",
      "Harry Kane\n",
      "$90 million\n"
     ]
    }
   ],
   "source": [
    "for noun in sentence5.noun_chunks:\n",
    "    print(noun.text)"
   ]
  },
  {
   "cell_type": "markdown",
   "id": "ab13c392",
   "metadata": {},
   "source": [
    "Porter Stemmer"
   ]
  },
  {
   "cell_type": "code",
   "execution_count": 27,
   "id": "83a1f801",
   "metadata": {},
   "outputs": [],
   "source": [
    "import nltk \n",
    "from nltk.stem.porter import *"
   ]
  },
  {
   "cell_type": "code",
   "execution_count": 28,
   "id": "c6fd63f5",
   "metadata": {},
   "outputs": [],
   "source": [
    "stemmer = PorterStemmer()\n"
   ]
  },
  {
   "cell_type": "code",
   "execution_count": 29,
   "id": "bcba96bc",
   "metadata": {},
   "outputs": [],
   "source": [
    "tokens = ['compute', 'computer', 'computed', 'computing']\n"
   ]
  },
  {
   "cell_type": "code",
   "execution_count": 30,
   "id": "f57db460",
   "metadata": {},
   "outputs": [
    {
     "name": "stdout",
     "output_type": "stream",
     "text": [
      "compute --> comput\n",
      "computer --> comput\n",
      "computed --> comput\n",
      "computing --> comput\n"
     ]
    }
   ],
   "source": [
    "for token in tokens:\n",
    "    print(token + ' --> ' + stemmer.stem(token))"
   ]
  },
  {
   "cell_type": "markdown",
   "id": "ce38adbf",
   "metadata": {},
   "source": [
    "Snowball Stemmer"
   ]
  },
  {
   "cell_type": "code",
   "execution_count": 31,
   "id": "68b9d190",
   "metadata": {},
   "outputs": [],
   "source": [
    "from nltk.stem.snowball import SnowballStemmer"
   ]
  },
  {
   "cell_type": "code",
   "execution_count": 32,
   "id": "c3a88f95",
   "metadata": {},
   "outputs": [
    {
     "name": "stdout",
     "output_type": "stream",
     "text": [
      "compute --> comput\n",
      "computer --> comput\n",
      "computed --> comput\n",
      "computing --> comput\n"
     ]
    }
   ],
   "source": [
    "stemmer = SnowballStemmer(language='english')\n",
    "\n",
    "tokens = ['compute', 'computer', 'computed', 'computing']\n",
    "\n",
    "for token in tokens:\n",
    "    print(token + ' --> ' + stemmer.stem(token))"
   ]
  },
  {
   "cell_type": "markdown",
   "id": "7f236a2f",
   "metadata": {},
   "source": [
    "Lemmatization"
   ]
  },
  {
   "cell_type": "code",
   "execution_count": 33,
   "id": "2d034cb4",
   "metadata": {},
   "outputs": [],
   "source": [
    "sentence6 = sp(u'compute computer computed computing')\n"
   ]
  },
  {
   "cell_type": "code",
   "execution_count": 34,
   "id": "7a4d9aec",
   "metadata": {},
   "outputs": [
    {
     "name": "stdout",
     "output_type": "stream",
     "text": [
      "compute compute\n",
      "computer computer\n",
      "computed computed\n",
      "computing computing\n"
     ]
    }
   ],
   "source": [
    "for word in sentence6:\n",
    "    print(word.text,  word.lemma_)"
   ]
  },
  {
   "cell_type": "code",
   "execution_count": 37,
   "id": "b0e75c9f",
   "metadata": {},
   "outputs": [
    {
     "name": "stdout",
     "output_type": "stream",
     "text": [
      "le  ===> le\n",
      "trajet  ===> trajet\n",
      "que  ===> que\n",
      "dessinent  ===> dessiner\n",
      "les  ===> le\n",
      "aventures  ===> aventure\n",
      "du  ===> de\n",
      "héros  ===> héros\n",
      "est  ===> être\n",
      "la  ===> le\n",
      "victoire  ===> victoire\n",
      "d'  ===> de\n",
      "une  ===> un\n",
      "culture  ===> culture\n",
      "ressourcée  ===> ressourcer\n",
      "aux  ===> à\n",
      "berceaux  ===> berceau\n",
      "des  ===> de\n",
      "formes  ===> forme\n",
      "sur  ===> sur\n",
      "les  ===> le\n",
      "survivances  ===> survivance\n",
      "du  ===> de\n",
      "monstrueux  ===> monstrueu\n",
      ".  ===> .\n"
     ]
    }
   ],
   "source": [
    "sentence7 = sp(u\"le trajet que dessinent les aventures du héros est la victoire d'une culture ressourcée aux berceaux des formes sur les survivances du monstrueux.\")\n",
    "\n",
    "for word in sentence7:\n",
    "    print(word.text + '  ===>', word.lemma_)"
   ]
  },
  {
   "cell_type": "code",
   "execution_count": null,
   "id": "238ee4bd",
   "metadata": {},
   "outputs": [],
   "source": []
  }
 ],
 "metadata": {
  "kernelspec": {
   "display_name": "Python 3 (ipykernel)",
   "language": "python",
   "name": "python3"
  },
  "language_info": {
   "codemirror_mode": {
    "name": "ipython",
    "version": 3
   },
   "file_extension": ".py",
   "mimetype": "text/x-python",
   "name": "python",
   "nbconvert_exporter": "python",
   "pygments_lexer": "ipython3",
   "version": "3.9.12"
  }
 },
 "nbformat": 4,
 "nbformat_minor": 5
}
